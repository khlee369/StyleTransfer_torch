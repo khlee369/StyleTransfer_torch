{
 "cells": [
  {
   "cell_type": "code",
   "execution_count": null,
   "metadata": {
    "ExecuteTime": {
     "end_time": "2020-11-29T10:59:35.378276Z",
     "start_time": "2020-11-29T10:59:34.922218Z"
    }
   },
   "outputs": [],
   "source": [
    "import cv2\n",
    "import torch\n",
    "import re\n",
    "from neural_style.transformer_net import TransformerNet\n",
    "from neural_style import utils\n",
    "import time"
   ]
  },
  {
   "cell_type": "code",
   "execution_count": null,
   "metadata": {
    "ExecuteTime": {
     "end_time": "2020-11-29T10:59:35.381468Z",
     "start_time": "2020-11-29T10:59:35.379219Z"
    }
   },
   "outputs": [],
   "source": [
    "STYLE_TRANSFORM_PATH = [\"./saved_models/rain_princess.pth\", \"./saved_models/candy.pth\"]\n",
    "PRESERVE_COLOR = False\n",
    "WIDTH = 1280//2\n",
    "HEIGHT = 720//2"
   ]
  },
  {
   "cell_type": "markdown",
   "metadata": {},
   "source": [
    "# main"
   ]
  },
  {
   "cell_type": "code",
   "execution_count": null,
   "metadata": {
    "ExecuteTime": {
     "end_time": "2020-11-29T10:59:35.395508Z",
     "start_time": "2020-11-29T10:59:35.382237Z"
    }
   },
   "outputs": [],
   "source": [
    "def webcam(style_transform_path, width=1280, height=720):\n",
    "    \"\"\"\n",
    "    Captures and saves an image, perform style transfer, and again saves the styled image.\n",
    "    Reads the styled image and show in window. \n",
    "    \"\"\"\n",
    "    # Device\n",
    "    device = (\"cuda\" if torch.cuda.is_available() else \"cpu\")\n",
    "\n",
    "    # Load Transformer Network\n",
    "    print(\"Loading Transformer Network\")\n",
    "    state_dicts = []\n",
    "    for mdls in style_transform_path:\n",
    "        state_dicts.append(torch.load(mdls))\n",
    "    \n",
    "    # remove saved deprecated running_* keys in InstanceNorm from the checkpoint\n",
    "    for sdict in state_dicts:\n",
    "        for k in list(sdict.keys()):\n",
    "            if re.search(r'in\\d+\\.running_(mean|var)$', k):\n",
    "                del sdict[k]\n",
    "                \n",
    "    idx = 0\n",
    "    net = TransformerNet()\n",
    "    net.load_state_dict(state_dicts[idx])\n",
    "    net = net.to(device)\n",
    "    print(\"Done Loading Transformer Network\")\n",
    "\n",
    "    # Set webcam settings\n",
    "    cam = cv2.VideoCapture(0)\n",
    "    cam.set(3, width)\n",
    "    cam.set(4, height)\n",
    "\n",
    "    # Main loop\n",
    "    with torch.no_grad():\n",
    "        st = time.time()\n",
    "        while True:\n",
    "            # Get webcam input\n",
    "            ret_val, img = cam.read()\n",
    "\n",
    "            # Mirror \n",
    "            img = cv2.flip(img, 1)\n",
    "\n",
    "            # Free-up unneeded cuda memory\n",
    "            torch.cuda.empty_cache()\n",
    "            \n",
    "            # Generate image\n",
    "            content_tensor = utils.itot(img).to(device)\n",
    "            generated_tensor = net(content_tensor)\n",
    "            generated_image = utils.ttoi(generated_tensor.detach())\n",
    "            if (PRESERVE_COLOR):\n",
    "                generated_image = utils.transfer_color(img, generated_image)\n",
    "\n",
    "            generated_image = generated_image / 255\n",
    "\n",
    "            # Show webcam\n",
    "            cv2.imshow('Demo webcam', generated_image)\n",
    "            if cv2.waitKey(1) == 27: \n",
    "                break  # esc to quit\n",
    "        \n",
    "            # cycle models\n",
    "            if time.time()-st > 5:\n",
    "                if idx == 0:\n",
    "                    idx = 1\n",
    "                    net.load_state_dict(state_dicts[idx])\n",
    "                else:\n",
    "                    idx = 0\n",
    "                    net.load_state_dict(state_dicts[idx])\n",
    "                    \n",
    "                st = time.time()\n",
    "                    \n",
    "            \n",
    "    # Free-up memories\n",
    "    cam.release()\n",
    "    cv2.destroyAllWindows()"
   ]
  },
  {
   "cell_type": "code",
   "execution_count": null,
   "metadata": {
    "ExecuteTime": {
     "end_time": "2020-11-29T11:00:20.433503Z",
     "start_time": "2020-11-29T10:59:35.396490Z"
    }
   },
   "outputs": [],
   "source": [
    "webcam(STYLE_TRANSFORM_PATH, WIDTH, HEIGHT)"
   ]
  },
  {
   "cell_type": "code",
   "execution_count": null,
   "metadata": {},
   "outputs": [],
   "source": []
  },
  {
   "cell_type": "markdown",
   "metadata": {},
   "source": [
    "# debug"
   ]
  },
  {
   "cell_type": "code",
   "execution_count": null,
   "metadata": {
    "ExecuteTime": {
     "end_time": "2020-11-29T11:00:20.455524Z",
     "start_time": "2020-11-29T11:00:20.435503Z"
    }
   },
   "outputs": [],
   "source": [
    "print(\"Loading Transformer Network\")\n",
    "state_dicts = []\n",
    "for mdls in STYLE_TRANSFORM_PATH:\n",
    "    state_dicts.append(torch.load(mdls))"
   ]
  },
  {
   "cell_type": "code",
   "execution_count": null,
   "metadata": {
    "ExecuteTime": {
     "end_time": "2020-11-29T11:00:20.463280Z",
     "start_time": "2020-11-29T11:00:20.457912Z"
    }
   },
   "outputs": [],
   "source": [
    "# remove saved deprecated running_* keys in InstanceNorm from the checkpoint\n",
    "for sdict in state_dicts:\n",
    "    for k in list(sdict.keys()):\n",
    "        if re.search(r'in\\d+\\.running_(mean|var)$', k):\n",
    "            del sdict[k]"
   ]
  },
  {
   "cell_type": "code",
   "execution_count": null,
   "metadata": {
    "ExecuteTime": {
     "end_time": "2020-11-29T11:00:20.486390Z",
     "start_time": "2020-11-29T11:00:20.466281Z"
    },
    "scrolled": true
   },
   "outputs": [],
   "source": [
    "net = TransformerNet()"
   ]
  },
  {
   "cell_type": "code",
   "execution_count": null,
   "metadata": {
    "ExecuteTime": {
     "end_time": "2020-11-29T11:00:20.498875Z",
     "start_time": "2020-11-29T11:00:20.489392Z"
    }
   },
   "outputs": [],
   "source": [
    "net = net.to(\"cuda\")"
   ]
  },
  {
   "cell_type": "code",
   "execution_count": null,
   "metadata": {
    "ExecuteTime": {
     "end_time": "2020-11-29T11:00:20.517053Z",
     "start_time": "2020-11-29T11:00:20.500942Z"
    }
   },
   "outputs": [],
   "source": [
    "net.load_state_dict(state_dicts[0])"
   ]
  },
  {
   "cell_type": "code",
   "execution_count": null,
   "metadata": {
    "ExecuteTime": {
     "end_time": "2020-11-29T11:00:20.526050Z",
     "start_time": "2020-11-29T11:00:20.520054Z"
    }
   },
   "outputs": [],
   "source": [
    "next(net.parameters()).device"
   ]
  },
  {
   "cell_type": "code",
   "execution_count": null,
   "metadata": {
    "ExecuteTime": {
     "end_time": "2020-11-29T11:00:20.532414Z",
     "start_time": "2020-11-29T11:00:20.527048Z"
    }
   },
   "outputs": [],
   "source": [
    "next(net.parameters()).device"
   ]
  },
  {
   "cell_type": "code",
   "execution_count": null,
   "metadata": {
    "ExecuteTime": {
     "end_time": "2020-11-29T11:00:20.554961Z",
     "start_time": "2020-11-29T11:00:20.533408Z"
    }
   },
   "outputs": [],
   "source": [
    "net.load_state_dict(state_dicts[1])"
   ]
  },
  {
   "cell_type": "code",
   "execution_count": null,
   "metadata": {
    "ExecuteTime": {
     "end_time": "2020-11-29T11:00:20.562961Z",
     "start_time": "2020-11-29T11:00:20.556961Z"
    }
   },
   "outputs": [],
   "source": [
    "next(net.parameters()).device"
   ]
  },
  {
   "cell_type": "code",
   "execution_count": null,
   "metadata": {
    "ExecuteTime": {
     "end_time": "2020-11-29T11:00:20.630471Z",
     "start_time": "2020-11-29T11:00:20.564962Z"
    }
   },
   "outputs": [],
   "source": [
    "state_dicts[0].to('cuda')"
   ]
  },
  {
   "cell_type": "code",
   "execution_count": null,
   "metadata": {
    "ExecuteTime": {
     "end_time": "2020-11-29T11:00:20.633471Z",
     "start_time": "2020-11-29T10:59:34.943Z"
    }
   },
   "outputs": [],
   "source": [
    "st = time.time()"
   ]
  },
  {
   "cell_type": "code",
   "execution_count": null,
   "metadata": {
    "ExecuteTime": {
     "end_time": "2020-11-29T11:00:20.634471Z",
     "start_time": "2020-11-29T10:59:34.944Z"
    }
   },
   "outputs": [],
   "source": [
    "time.time()-st"
   ]
  },
  {
   "cell_type": "code",
   "execution_count": null,
   "metadata": {},
   "outputs": [],
   "source": []
  }
 ],
 "metadata": {
  "kernelspec": {
   "display_name": "Python 3",
   "language": "python",
   "name": "python3"
  },
  "language_info": {
   "codemirror_mode": {
    "name": "ipython",
    "version": 3
   },
   "file_extension": ".py",
   "mimetype": "text/x-python",
   "name": "python",
   "nbconvert_exporter": "python",
   "pygments_lexer": "ipython3",
   "version": "3.7.9"
  },
  "toc": {
   "base_numbering": 1,
   "nav_menu": {},
   "number_sections": true,
   "sideBar": true,
   "skip_h1_title": false,
   "title_cell": "Table of Contents",
   "title_sidebar": "Contents",
   "toc_cell": false,
   "toc_position": {},
   "toc_section_display": true,
   "toc_window_display": false
  },
  "varInspector": {
   "cols": {
    "lenName": 16,
    "lenType": 16,
    "lenVar": 40
   },
   "kernels_config": {
    "python": {
     "delete_cmd_postfix": "",
     "delete_cmd_prefix": "del ",
     "library": "var_list.py",
     "varRefreshCmd": "print(var_dic_list())"
    },
    "r": {
     "delete_cmd_postfix": ") ",
     "delete_cmd_prefix": "rm(",
     "library": "var_list.r",
     "varRefreshCmd": "cat(var_dic_list()) "
    }
   },
   "types_to_exclude": [
    "module",
    "function",
    "builtin_function_or_method",
    "instance",
    "_Feature"
   ],
   "window_display": false
  }
 },
 "nbformat": 4,
 "nbformat_minor": 4
}
